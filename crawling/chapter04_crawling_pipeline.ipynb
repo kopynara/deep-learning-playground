{
 "cells": [
  {
   "cell_type": "markdown",
   "id": "59a38108",
   "metadata": {},
   "source": [
    "# Crawling Pipeline\n",
    "\n",
    "이번 챕터에서는 크롤링 → 저장 → 불러오기 → 분석까지 전체 파이프라인을 구성합니다.\n"
   ]
  },
  {
   "cell_type": "code",
   "execution_count": 1,
   "id": "d5297a1f",
   "metadata": {},
   "outputs": [
    {
     "data": {
      "application/vnd.microsoft.datawrangler.viewer.v0+json": {
       "columns": [
        {
         "name": "index",
         "rawType": "int64",
         "type": "integer"
        },
        {
         "name": "text",
         "rawType": "object",
         "type": "string"
        },
        {
         "name": "author",
         "rawType": "object",
         "type": "string"
        }
       ],
       "ref": "b133f76e-3dea-463b-863a-0578f2dbe0e3",
       "rows": [
        [
         "0",
         "“The world as we have created it is a process of our thinking. It cannot be changed without changing our thinking.”",
         "Albert Einstein"
        ],
        [
         "1",
         "“It is our choices, Harry, that show what we truly are, far more than our abilities.”",
         "J.K. Rowling"
        ],
        [
         "2",
         "“There are only two ways to live your life. One is as though nothing is a miracle. The other is as though everything is a miracle.”",
         "Albert Einstein"
        ],
        [
         "3",
         "“The person, be it gentleman or lady, who has not pleasure in a good novel, must be intolerably stupid.”",
         "Jane Austen"
        ],
        [
         "4",
         "“Imperfection is beauty, madness is genius and it's better to be absolutely ridiculous than absolutely boring.”",
         "Marilyn Monroe"
        ]
       ],
       "shape": {
        "columns": 2,
        "rows": 5
       }
      },
      "text/html": [
       "<div>\n",
       "<style scoped>\n",
       "    .dataframe tbody tr th:only-of-type {\n",
       "        vertical-align: middle;\n",
       "    }\n",
       "\n",
       "    .dataframe tbody tr th {\n",
       "        vertical-align: top;\n",
       "    }\n",
       "\n",
       "    .dataframe thead th {\n",
       "        text-align: right;\n",
       "    }\n",
       "</style>\n",
       "<table border=\"1\" class=\"dataframe\">\n",
       "  <thead>\n",
       "    <tr style=\"text-align: right;\">\n",
       "      <th></th>\n",
       "      <th>text</th>\n",
       "      <th>author</th>\n",
       "    </tr>\n",
       "  </thead>\n",
       "  <tbody>\n",
       "    <tr>\n",
       "      <th>0</th>\n",
       "      <td>“The world as we have created it is a process ...</td>\n",
       "      <td>Albert Einstein</td>\n",
       "    </tr>\n",
       "    <tr>\n",
       "      <th>1</th>\n",
       "      <td>“It is our choices, Harry, that show what we t...</td>\n",
       "      <td>J.K. Rowling</td>\n",
       "    </tr>\n",
       "    <tr>\n",
       "      <th>2</th>\n",
       "      <td>“There are only two ways to live your life. On...</td>\n",
       "      <td>Albert Einstein</td>\n",
       "    </tr>\n",
       "    <tr>\n",
       "      <th>3</th>\n",
       "      <td>“The person, be it gentleman or lady, who has ...</td>\n",
       "      <td>Jane Austen</td>\n",
       "    </tr>\n",
       "    <tr>\n",
       "      <th>4</th>\n",
       "      <td>“Imperfection is beauty, madness is genius and...</td>\n",
       "      <td>Marilyn Monroe</td>\n",
       "    </tr>\n",
       "  </tbody>\n",
       "</table>\n",
       "</div>"
      ],
      "text/plain": [
       "                                                text           author\n",
       "0  “The world as we have created it is a process ...  Albert Einstein\n",
       "1  “It is our choices, Harry, that show what we t...     J.K. Rowling\n",
       "2  “There are only two ways to live your life. On...  Albert Einstein\n",
       "3  “The person, be it gentleman or lady, who has ...      Jane Austen\n",
       "4  “Imperfection is beauty, madness is genius and...   Marilyn Monroe"
      ]
     },
     "execution_count": 1,
     "metadata": {},
     "output_type": "execute_result"
    }
   ],
   "source": [
    "import requests\n",
    "from bs4 import BeautifulSoup\n",
    "import pandas as pd\n",
    "\n",
    "url = \"https://quotes.toscrape.com/\"\n",
    "res = requests.get(url)\n",
    "soup = BeautifulSoup(res.text, \"html.parser\")\n",
    "\n",
    "quotes = []\n",
    "for q in soup.select(\".quote\"):\n",
    "    text = q.select_one(\".text\").get_text()\n",
    "    author = q.select_one(\".author\").get_text()\n",
    "    quotes.append({\"text\": text, \"author\": author})\n",
    "\n",
    "df = pd.DataFrame(quotes)\n",
    "df.head()\n"
   ]
  },
  {
   "cell_type": "markdown",
   "id": "2b480def",
   "metadata": {},
   "source": [
    "## 📥 데이터 저장\n",
    "크롤링한 데이터를 CSV, JSON, SQLite(DB) 등 다양한 방식으로 저장합니다.\n"
   ]
  },
  {
   "cell_type": "code",
   "execution_count": 2,
   "id": "acc40a05",
   "metadata": {},
   "outputs": [],
   "source": [
    "# CSV\n",
    "df.to_csv(\"quotes.csv\", index=False, encoding=\"utf-8-sig\")\n",
    "\n",
    "# JSON\n",
    "df.to_json(\"quotes.json\", orient=\"records\", force_ascii=False)\n",
    "\n",
    "# SQLite\n",
    "import sqlite3\n",
    "conn = sqlite3.connect(\"quotes.db\")\n",
    "df.to_sql(\"quotes\", conn, if_exists=\"replace\", index=False)\n",
    "conn.close()\n",
    "# SQL Basics 01: SELECT & WHERE\n"
   ]
  },
  {
   "cell_type": "markdown",
   "id": "90c9c0f8",
   "metadata": {},
   "source": [
    "## 📊 데이터 불러오기 & 분석\n"
   ]
  },
  {
   "cell_type": "code",
   "execution_count": 3,
   "id": "6f7bec9a",
   "metadata": {},
   "outputs": [
    {
     "data": {
      "application/vnd.microsoft.datawrangler.viewer.v0+json": {
       "columns": [
        {
         "name": "author",
         "rawType": "object",
         "type": "string"
        },
        {
         "name": "count",
         "rawType": "int64",
         "type": "integer"
        }
       ],
       "ref": "75af84d1-4a00-4e44-8471-9f4f37db60db",
       "rows": [
        [
         "Albert Einstein",
         "3"
        ],
        [
         "J.K. Rowling",
         "1"
        ],
        [
         "Jane Austen",
         "1"
        ],
        [
         "Marilyn Monroe",
         "1"
        ],
        [
         "André Gide",
         "1"
        ],
        [
         "Thomas A. Edison",
         "1"
        ],
        [
         "Eleanor Roosevelt",
         "1"
        ],
        [
         "Steve Martin",
         "1"
        ]
       ],
       "shape": {
        "columns": 1,
        "rows": 8
       }
      },
      "text/plain": [
       "author\n",
       "Albert Einstein      3\n",
       "J.K. Rowling         1\n",
       "Jane Austen          1\n",
       "Marilyn Monroe       1\n",
       "André Gide           1\n",
       "Thomas A. Edison     1\n",
       "Eleanor Roosevelt    1\n",
       "Steve Martin         1\n",
       "Name: count, dtype: int64"
      ]
     },
     "execution_count": 3,
     "metadata": {},
     "output_type": "execute_result"
    }
   ],
   "source": [
    "# SQLite 불러오기\n",
    "conn = sqlite3.connect(\"quotes.db\")\n",
    "df_quotes = pd.read_sql(\"SELECT * FROM quotes\", conn)\n",
    "\n",
    "# 간단 분석: 작가별 명언 개수\n",
    "df_quotes[\"author\"].value_counts()\n"
   ]
  },
  {
   "cell_type": "code",
   "execution_count": 4,
   "id": "2556ced4",
   "metadata": {},
   "outputs": [
    {
     "data": {
      "image/png": "[encoded data removed]",
      "text/plain": [
       "<Figure size 640x480 with 1 Axes>"
      ]
     },
     "metadata": {},
     "output_type": "display_data"
    }
   ],
   "source": [
    "import matplotlib.pyplot as plt\n",
    "\n",
    "df_quotes[\"author\"].value_counts().head(10).plot(kind=\"bar\")\n",
    "plt.title(\"Top 10 Authors by Quote Count\")\n",
    "plt.show()\n",
    "# SQL Basics 02: GROUP BY & JOIN"
   ]
  }
 ],
 "metadata": {
  "kernelspec": {
   "display_name": "v_dl (3.10.12)",
   "language": "python",
   "name": "python3"
  },
  "language_info": {
   "codemirror_mode": {
    "name": "ipython",
    "version": 3
   },
   "file_extension": ".py",
   "mimetype": "text/x-python",
   "name": "python",
   "nbconvert_exporter": "python",
   "pygments_lexer": "ipython3",
   "version": "3.10.12"
  }
 },
 "nbformat": 4,
 "nbformat_minor": 5
}
