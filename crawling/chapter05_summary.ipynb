{
 "cells": [
  {
   "cell_type": "markdown",
   "id": "af8e0550",
   "metadata": {},
   "source": [
    "# Crawling Pipeline Advanced\n",
    "\n",
    "이번 챕터에서는 기초 파이프라인을 **함수화 + 예외 처리**로 확장합니다.\n"
   ]
  },
  {
   "cell_type": "code",
   "execution_count": 1,
   "id": "af2884d2",
   "metadata": {},
   "outputs": [
    {
     "data": {
      "application/vnd.microsoft.datawrangler.viewer.v0+json": {
       "columns": [
        {
         "name": "index",
         "rawType": "int64",
         "type": "integer"
        },
        {
         "name": "text",
         "rawType": "object",
         "type": "string"
        },
        {
         "name": "author",
         "rawType": "object",
         "type": "string"
        }
       ],
       "ref": "3268fb41-61ad-475c-8732-d9d7d13892e0",
       "rows": [
        [
         "0",
         "“The world as we have created it is a process of our thinking. It cannot be changed without changing our thinking.”",
         "Albert Einstein"
        ],
        [
         "1",
         "“It is our choices, Harry, that show what we truly are, far more than our abilities.”",
         "J.K. Rowling"
        ],
        [
         "2",
         "“There are only two ways to live your life. One is as though nothing is a miracle. The other is as though everything is a miracle.”",
         "Albert Einstein"
        ],
        [
         "3",
         "“The person, be it gentleman or lady, who has not pleasure in a good novel, must be intolerably stupid.”",
         "Jane Austen"
        ],
        [
         "4",
         "“Imperfection is beauty, madness is genius and it's better to be absolutely ridiculous than absolutely boring.”",
         "Marilyn Monroe"
        ]
       ],
       "shape": {
        "columns": 2,
        "rows": 5
       }
      },
      "text/html": [
       "<div>\n",
       "<style scoped>\n",
       "    .dataframe tbody tr th:only-of-type {\n",
       "        vertical-align: middle;\n",
       "    }\n",
       "\n",
       "    .dataframe tbody tr th {\n",
       "        vertical-align: top;\n",
       "    }\n",
       "\n",
       "    .dataframe thead th {\n",
       "        text-align: right;\n",
       "    }\n",
       "</style>\n",
       "<table border=\"1\" class=\"dataframe\">\n",
       "  <thead>\n",
       "    <tr style=\"text-align: right;\">\n",
       "      <th></th>\n",
       "      <th>text</th>\n",
       "      <th>author</th>\n",
       "    </tr>\n",
       "  </thead>\n",
       "  <tbody>\n",
       "    <tr>\n",
       "      <th>0</th>\n",
       "      <td>“The world as we have created it is a process ...</td>\n",
       "      <td>Albert Einstein</td>\n",
       "    </tr>\n",
       "    <tr>\n",
       "      <th>1</th>\n",
       "      <td>“It is our choices, Harry, that show what we t...</td>\n",
       "      <td>J.K. Rowling</td>\n",
       "    </tr>\n",
       "    <tr>\n",
       "      <th>2</th>\n",
       "      <td>“There are only two ways to live your life. On...</td>\n",
       "      <td>Albert Einstein</td>\n",
       "    </tr>\n",
       "    <tr>\n",
       "      <th>3</th>\n",
       "      <td>“The person, be it gentleman or lady, who has ...</td>\n",
       "      <td>Jane Austen</td>\n",
       "    </tr>\n",
       "    <tr>\n",
       "      <th>4</th>\n",
       "      <td>“Imperfection is beauty, madness is genius and...</td>\n",
       "      <td>Marilyn Monroe</td>\n",
       "    </tr>\n",
       "  </tbody>\n",
       "</table>\n",
       "</div>"
      ],
      "text/plain": [
       "                                                text           author\n",
       "0  “The world as we have created it is a process ...  Albert Einstein\n",
       "1  “It is our choices, Harry, that show what we t...     J.K. Rowling\n",
       "2  “There are only two ways to live your life. On...  Albert Einstein\n",
       "3  “The person, be it gentleman or lady, who has ...      Jane Austen\n",
       "4  “Imperfection is beauty, madness is genius and...   Marilyn Monroe"
      ]
     },
     "execution_count": 1,
     "metadata": {},
     "output_type": "execute_result"
    }
   ],
   "source": [
    "import requests\n",
    "from bs4 import BeautifulSoup\n",
    "import pandas as pd\n",
    "import time\n",
    "\n",
    "def crawl_quotes(url, max_pages=3):\n",
    "    quotes = []\n",
    "    for page in range(1, max_pages+1):\n",
    "        try:\n",
    "            res = requests.get(f\"{url}/page/{page}/\", timeout=5)\n",
    "            res.raise_for_status()\n",
    "            soup = BeautifulSoup(res.text, \"html.parser\")\n",
    "\n",
    "            for q in soup.select(\".quote\"):\n",
    "                text = q.select_one(\".text\").get_text()\n",
    "                author = q.select_one(\".author\").get_text()\n",
    "                quotes.append({\"text\": text, \"author\": author})\n",
    "\n",
    "            time.sleep(1)  # 서버 과부하 방지\n",
    "        except Exception as e:\n",
    "            print(f\"⚠️ Error on page {page}: {e}\")\n",
    "    return pd.DataFrame(quotes)\n",
    "\n",
    "df = crawl_quotes(\"https://quotes.toscrape.com\", max_pages=3)\n",
    "df.head()\n"
   ]
  },
  {
   "cell_type": "code",
   "execution_count": 2,
   "id": "cdfaefda",
   "metadata": {},
   "outputs": [
    {
     "name": "stdout",
     "output_type": "stream",
     "text": [
      "✅ 저장 완료: quotes.csv\n"
     ]
    }
   ],
   "source": [
    "def save_data(df, fname=\"quotes.csv\"):\n",
    "    df.to_csv(fname, index=False, encoding=\"utf-8-sig\")\n",
    "    print(f\"✅ 저장 완료: {fname}\")\n",
    "\n",
    "save_data(df)\n"
   ]
  },
  {
   "cell_type": "code",
   "execution_count": 3,
   "id": "52dca303",
   "metadata": {},
   "outputs": [
    {
     "data": {
      "application/vnd.microsoft.datawrangler.viewer.v0+json": {
       "columns": [
        {
         "name": "author",
         "rawType": "object",
         "type": "string"
        },
        {
         "name": "count",
         "rawType": "int64",
         "type": "integer"
        }
       ],
       "ref": "3622170f-938f-4b39-949a-db99d9e3786c",
       "rows": [
        [
         "Albert Einstein",
         "6"
        ],
        [
         "J.K. Rowling",
         "3"
        ],
        [
         "Marilyn Monroe",
         "2"
        ],
        [
         "Dr. Seuss",
         "2"
        ],
        [
         "Bob Marley",
         "2"
        ]
       ],
       "shape": {
        "columns": 1,
        "rows": 5
       }
      },
      "text/plain": [
       "author\n",
       "Albert Einstein    6\n",
       "J.K. Rowling       3\n",
       "Marilyn Monroe     2\n",
       "Dr. Seuss          2\n",
       "Bob Marley         2\n",
       "Name: count, dtype: int64"
      ]
     },
     "execution_count": 3,
     "metadata": {},
     "output_type": "execute_result"
    }
   ],
   "source": [
    "df_loaded = pd.read_csv(\"quotes.csv\")\n",
    "df_loaded[\"author\"].value_counts().head(5)\n"
   ]
  },
  {
   "cell_type": "code",
   "execution_count": 4,
   "id": "256d2671",
   "metadata": {},
   "outputs": [
    {
     "data": {
      "image/png": "[encoded data removed]",
      "text/plain": [
       "<Figure size 640x480 with 1 Axes>"
      ]
     },
     "metadata": {},
     "output_type": "display_data"
    }
   ],
   "source": [
    "import matplotlib.pyplot as plt\n",
    "\n",
    "df_loaded[\"author\"].value_counts().head(5).plot(kind=\"bar\")\n",
    "plt.title(\"Top 5 Authors by Quote Count\")\n",
    "plt.show()\n"
   ]
  }
 ],
 "metadata": {
  "kernelspec": {
   "display_name": "v_dl (3.10.12)",
   "language": "python",
   "name": "python3"
  },
  "language_info": {
   "codemirror_mode": {
    "name": "ipython",
    "version": 3
   },
   "file_extension": ".py",
   "mimetype": "text/x-python",
   "name": "python",
   "nbconvert_exporter": "python",
   "pygments_lexer": "ipython3",
   "version": "3.10.12"
  }
 },
 "nbformat": 4,
 "nbformat_minor": 5
}
