{
 "cells": [
  {
   "cell_type": "markdown",
   "id": "7c29df85",
   "metadata": {},
   "source": [
    "# Chapter 02: Selenium Basics\n",
    "📌 목표: 자바스크립트 기반으로 로딩되는 동적 페이지에서 데이터를 크롤링한다.\n"
   ]
  },
  {
   "cell_type": "code",
   "execution_count": 2,
   "id": "4e51a5e5",
   "metadata": {},
   "outputs": [
    {
     "name": "stdout",
     "output_type": "stream",
     "text": [
      "페이지 제목: 네이버 뉴스\n"
     ]
    }
   ],
   "source": [
    "from selenium import webdriver\n",
    "from selenium.webdriver.chrome.service import Service\n",
    "from selenium.webdriver.chrome.options import Options\n",
    "\n",
    "# 1. 옵션 설정\n",
    "options = Options()\n",
    "options.add_argument(\"--headless\")  # 브라우저 창 띄우지 않음\n",
    "options.add_argument(\"--no-sandbox\")\n",
    "options.add_argument(\"--disable-dev-shm-usage\")\n",
    "\n",
    "# 2. 크롬 드라이버 서비스 (경로: /usr/bin/chromedriver)\n",
    "service = Service(\"/usr/bin/chromedriver\")\n",
    "driver = webdriver.Chrome(service=service, options=options)\n",
    "\n",
    "# 3. 웹페이지 열기\n",
    "url = \"https://news.naver.com\"\n",
    "driver.get(url)\n",
    "\n",
    "# 4. 현재 페이지 제목 출력\n",
    "print(\"페이지 제목:\", driver.title)\n",
    "\n",
    "# 5. 브라우저 종료\n",
    "driver.quit()\n"
   ]
  },
  {
   "cell_type": "markdown",
   "id": "2955ad5d",
   "metadata": {},
   "source": [
    "## 🔑 정리\n",
    "- Selenium은 **동적 페이지(자바스크립트 로딩)** 크롤링에 사용된다.\n",
    "- `Options()`에서 `--headless` 모드로 실행하면 WSL/서버 환경에서도 GUI 없이 동작 가능하다.\n",
    "- `Service(\"/usr/bin/chromedriver\")` 경로는 설치된 크롬드라이버 위치를 지정한다.\n",
    "- `driver.get(url)` → 페이지 열기\n",
    "- `driver.title` → 현재 페이지 제목 확인\n",
    "- 마지막엔 반드시 `driver.quit()`으로 브라우저를 닫아야 한다.\n"
   ]
  }
 ],
 "metadata": {
  "kernelspec": {
   "display_name": "v_dl (3.10.12)",
   "language": "python",
   "name": "python3"
  },
  "language_info": {
   "codemirror_mode": {
    "name": "ipython",
    "version": 3
   },
   "file_extension": ".py",
   "mimetype": "text/x-python",
   "name": "python",
   "nbconvert_exporter": "python",
   "pygments_lexer": "ipython3",
   "version": "3.10.12"
  }
 },
 "nbformat": 4,
 "nbformat_minor": 5
}
