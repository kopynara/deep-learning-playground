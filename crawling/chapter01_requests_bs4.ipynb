{
 "cells": [
  {
   "cell_type": "markdown",
   "id": "c3c6bfb2",
   "metadata": {},
   "source": [
    "# Chapter 01: Requests + BeautifulSoup\n",
    "📌 목표: 정적 웹페이지에서 HTML 요소를 크롤링하고, 원하는 데이터(텍스트/링크)를 추출한다.\n"
   ]
  },
  {
   "cell_type": "code",
   "execution_count": 1,
   "id": "55c7a4e1",
   "metadata": {},
   "outputs": [
    {
     "name": "stdout",
     "output_type": "stream",
     "text": [
      "응답 코드: 200\n",
      "페이지 제목: Hacker News\n",
      "총 0개 기사 제목\n"
     ]
    }
   ],
   "source": [
    "import requests\n",
    "from bs4 import BeautifulSoup\n",
    "\n",
    "# 1. 크롤링할 URL\n",
    "url = \"https://news.ycombinator.com/\"   # 연습용: Hacker News 메인 페이지\n",
    "response = requests.get(url)\n",
    "\n",
    "# 상태 코드 확인\n",
    "print(\"응답 코드:\", response.status_code)\n",
    "\n",
    "# 2. HTML 파싱\n",
    "soup = BeautifulSoup(response.text, \"html.parser\")\n",
    "\n",
    "# 3. 페이지 제목 출력\n",
    "print(\"페이지 제목:\", soup.title.string)\n",
    "\n",
    "# 4. 뉴스 헤드라인 추출 (a 태그 중 클래스명 'titlelink')\n",
    "headlines = soup.find_all(\"a\", class_=\"titlelink\")\n",
    "\n",
    "print(f\"총 {len(headlines)}개 기사 제목\")\n",
    "for i, h in enumerate(headlines[:10], 1):  # 앞 10개만 출력\n",
    "    print(f\"{i}. {h.get_text()}  ({h.get('href')})\")\n"
   ]
  },
  {
   "cell_type": "markdown",
   "id": "a174fdf8",
   "metadata": {},
   "source": [
    "## 🔑 정리\n",
    "- `requests.get(url)` → 웹페이지 HTML 가져오기\n",
    "- `BeautifulSoup(response.text, \"html.parser\")` → HTML 파싱\n",
    "- `soup.find_all(\"a\", class_=\"titlelink\")` → 특정 태그/클래스 찾기\n",
    "- `.get_text()` → 텍스트만 추출\n",
    "- `.get(\"href\")` → 링크 추출\n"
   ]
  }
 ],
 "metadata": {
  "kernelspec": {
   "display_name": "v_dl (3.10.12)",
   "language": "python",
   "name": "python3"
  },
  "language_info": {
   "codemirror_mode": {
    "name": "ipython",
    "version": 3
   },
   "file_extension": ".py",
   "mimetype": "text/x-python",
   "name": "python",
   "nbconvert_exporter": "python",
   "pygments_lexer": "ipython3",
   "version": "3.10.12"
  }
 },
 "nbformat": 4,
 "nbformat_minor": 5
}
