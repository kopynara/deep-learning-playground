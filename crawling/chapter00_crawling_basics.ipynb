{
 "cells": [
  {
   "cell_type": "markdown",
   "id": "535c81cf",
   "metadata": {},
   "source": [
    "# Chapter 00: Crawling Basics\n",
    "📌 목표: requests와 BeautifulSoup을 사용해 웹 페이지를 불러오고, HTML을 파싱한다.\n"
   ]
  },
  {
   "cell_type": "code",
   "execution_count": 2,
   "id": "f1ebd639",
   "metadata": {},
   "outputs": [
    {
     "name": "stdout",
     "output_type": "stream",
     "text": [
      "응답 코드: 200\n",
      "페이지 제목: Example Domain\n",
      "https://www.iana.org/domains/example\n"
     ]
    }
   ],
   "source": [
    "import requests\n",
    "from bs4 import BeautifulSoup\n",
    "\n",
    "# 1. 웹 페이지 요청\n",
    "url = \"https://example.com\"  # 연습용 페이지 (실습할 때 다른 URL 넣으면 됨)\n",
    "response = requests.get(url)\n",
    "\n",
    "# 상태 코드 확인 (200이면 정상)\n",
    "print(\"응답 코드:\", response.status_code)\n",
    "\n",
    "# 2. HTML 파싱\n",
    "soup = BeautifulSoup(response.text, \"html.parser\")\n",
    "\n",
    "# 3. 페이지 제목(title 태그) 출력\n",
    "print(\"페이지 제목:\", soup.title.string)\n",
    "\n",
    "# 4. 모든 링크(a 태그) 출력\n",
    "for link in soup.find_all(\"a\"):\n",
    "    print(link.get(\"href\"))\n"
   ]
  },
  {
   "cell_type": "markdown",
   "id": "8d204ae6",
   "metadata": {},
   "source": [
    "## 🔑 정리\n",
    "- `requests.get(url)` → HTML 요청\n",
    "- `BeautifulSoup(html, \"html.parser\")` → HTML 파싱\n",
    "- `soup.title.string` → 페이지 제목 추출\n",
    "- `soup.find_all(\"a\")` → 모든 링크 추출\n"
   ]
  }
 ],
 "metadata": {
  "kernelspec": {
   "display_name": "v_dl (3.10.12)",
   "language": "python",
   "name": "python3"
  },
  "language_info": {
   "codemirror_mode": {
    "name": "ipython",
    "version": 3
   },
   "file_extension": ".py",
   "mimetype": "text/x-python",
   "name": "python",
   "nbconvert_exporter": "python",
   "pygments_lexer": "ipython3",
   "version": "3.10.12"
  }
 },
 "nbformat": 4,
 "nbformat_minor": 5
}
