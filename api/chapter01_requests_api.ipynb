{
 "cells": [
  {
   "cell_type": "markdown",
   "id": "109240b2",
   "metadata": {},
   "source": [
    "# 📄 1. Requests로 API 호출\n",
    "\n",
    "## 🎯 학습 목표\n",
    "- `requests` 라이브러리로 GET / POST 요청 보내기\n",
    "- 쿼리 파라미터 사용하기\n",
    "- JSON 응답 처리하기\n",
    "\n",
    "---\n",
    "\n",
    "## ⚡ 주요 포인트\n",
    "- `requests.get(url, params={})` → GET 요청에 파라미터 전달\n",
    "- `requests.post(url, json={})` → POST 요청에 JSON 데이터 전송\n",
    "- `response.json()` → 응답을 JSON(dict)으로 변환\n",
    "- `response.status_code` → HTTP 응답 코드 확인\n"
   ]
  },
  {
   "cell_type": "code",
   "execution_count": null,
   "id": "1877772d",
   "metadata": {
    "vscode": {
     "languageId": "plaintext"
    }
   },
   "outputs": [],
   "source": [
    "import requests\n",
    "\n",
    "# 기본 GET 요청\n",
    "url = \"https://jsonplaceholder.typicode.com/posts\"\n",
    "response = requests.get(url)\n",
    "\n",
    "print(\"응답 코드:\", response.status_code)\n",
    "print(\"데이터 개수:\", len(response.json()))\n"
   ]
  },
  {
   "cell_type": "code",
   "execution_count": null,
   "id": "278d89c9",
   "metadata": {
    "vscode": {
     "languageId": "plaintext"
    }
   },
   "outputs": [],
   "source": [
    "# 특정 userId의 게시글만 가져오기\n",
    "url = \"https://jsonplaceholder.typicode.com/posts\"\n",
    "params = {\"userId\": 1}\n",
    "\n",
    "response = requests.get(url, params=params)\n",
    "\n",
    "print(\"응답 코드:\", response.status_code)\n",
    "posts = response.json()\n",
    "\n",
    "for p in posts[:3]:  # 앞 3개만 출력\n",
    "    print(f\"{p['id']} | {p['title']}\")\n"
   ]
  },
  {
   "cell_type": "code",
   "execution_count": null,
   "id": "81939d7b",
   "metadata": {
    "vscode": {
     "languageId": "plaintext"
    }
   },
   "outputs": [],
   "source": [
    "url = \"https://jsonplaceholder.typicode.com/posts\"\n",
    "new_post = {\n",
    "    \"title\": \"ChatGPT가 만든 글\",\n",
    "    \"body\": \"이건 실습용 POST 요청 예시입니다.\",\n",
    "    \"userId\": 1\n",
    "}\n",
    "\n",
    "response = requests.post(url, json=new_post)\n",
    "\n",
    "print(\"응답 코드:\", response.status_code)\n",
    "print(\"생성된 데이터:\", response.json())\n"
   ]
  },
  {
   "cell_type": "code",
   "execution_count": null,
   "id": "9c6479c0",
   "metadata": {
    "vscode": {
     "languageId": "plaintext"
    }
   },
   "outputs": [],
   "source": [
    "# 존재하지 않는 endpoint 요청 → 404 에러\n",
    "url = \"https://jsonplaceholder.typicode.com/unknown\"\n",
    "response = requests.get(url)\n",
    "\n",
    "print(\"응답 코드:\", response.status_code)\n",
    "print(\"응답 텍스트:\", response.text)\n"
   ]
  }
 ],
 "metadata": {
  "language_info": {
   "name": "python"
  }
 },
 "nbformat": 4,
 "nbformat_minor": 5
}
