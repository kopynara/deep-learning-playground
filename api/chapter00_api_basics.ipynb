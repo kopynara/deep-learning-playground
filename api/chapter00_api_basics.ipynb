{
 "cells": [
  {
   "cell_type": "markdown",
   "id": "e851e18a",
   "metadata": {},
   "source": [
    "# 📄 0. API 기본 개념\n",
    "\n",
    "## 🌐 API란?\n",
    "- Application Programming Interface → 프로그램끼리 소통하는 창구\n",
    "- REST API가 가장 일반적 (HTTP 기반, JSON 응답)\n",
    "\n",
    "## ⚡ HTTP 메서드\n",
    "- **GET** : 데이터 조회\n",
    "- **POST** : 데이터 생성\n",
    "- **PUT/PATCH** : 데이터 수정\n",
    "- **DELETE** : 데이터 삭제\n",
    "\n",
    "## 🌳 비유로 이해하기\n",
    "- API = 식당 메뉴판 🍽️\n",
    "- GET = 메뉴 주문하기\n",
    "- POST = 새로운 메뉴 추가\n",
    "- PUT = 메뉴 변경\n",
    "- DELETE = 주문 취소\n"
   ]
  },
  {
   "cell_type": "code",
   "execution_count": null,
   "id": "7a5ad8e1",
   "metadata": {
    "vscode": {
     "languageId": "plaintext"
    }
   },
   "outputs": [],
   "source": [
    "import requests\n",
    "\n",
    "# JSONPlaceholder → 무료 테스트용 API\n",
    "url = \"https://jsonplaceholder.typicode.com/posts/1\"\n",
    "\n",
    "response = requests.get(url)\n",
    "\n",
    "# 상태 코드 확인\n",
    "print(\"응답 코드:\", response.status_code)\n",
    "\n",
    "# JSON 데이터 확인\n",
    "print(\"응답 데이터:\", response.json())\n"
   ]
  },
  {
   "cell_type": "code",
   "execution_count": null,
   "id": "9a543c54",
   "metadata": {
    "vscode": {
     "languageId": "plaintext"
    }
   },
   "outputs": [],
   "source": [
    "# 존재하지 않는 자원 요청 → 404 에러 발생\n",
    "url = \"https://jsonplaceholder.typicode.com/posts/999999\"\n",
    "response = requests.get(url)\n",
    "\n",
    "print(\"응답 코드:\", response.status_code)  # 404\n",
    "print(\"응답 텍스트:\", response.text)      # 에러 내용 출력\n"
   ]
  },
  {
   "cell_type": "code",
   "execution_count": null,
   "id": "7e618279",
   "metadata": {
    "vscode": {
     "languageId": "plaintext"
    }
   },
   "outputs": [],
   "source": [
    "# 여러 개 게시물 불러오기\n",
    "url = \"https://jsonplaceholder.typicode.com/posts\"\n",
    "\n",
    "response = requests.get(url)\n",
    "posts = response.json()\n",
    "\n",
    "# 앞의 5개만 출력\n",
    "for p in posts[:5]:\n",
    "    print(f\"{p['id']}: {p['title']}\")\n"
   ]
  }
 ],
 "metadata": {
  "language_info": {
   "name": "python"
  }
 },
 "nbformat": 4,
 "nbformat_minor": 5
}
