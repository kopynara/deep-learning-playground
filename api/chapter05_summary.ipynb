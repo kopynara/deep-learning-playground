{
 "cells": [
  {
   "cell_type": "markdown",
   "id": "7aa7952a",
   "metadata": {},
   "source": [
    "# 📄 5. 요약 & 키워드\n",
    "\n",
    "## 🛤️ 학습 흐름 요약\n",
    "1. **API 기본 개념**\n",
    "   - REST API, HTTP 메서드(GET/POST/PUT/DELETE)\n",
    "   - 응답 형식: JSON, XML\n",
    "\n",
    "2. **Requests로 API 호출**\n",
    "   - `requests.get(url, params={})`\n",
    "   - `requests.post(url, json={})`\n",
    "\n",
    "3. **인증(Authentication)**\n",
    "   - API Key: 간단하지만 보안 취약\n",
    "   - Bearer Token: 토큰 기반 인증\n",
    "   - OAuth2.0: 인스타그램/구글/트위터 등에서 사용\n",
    "\n",
    "4. **에러 처리**\n",
    "   - 상태 코드: 200(성공), 400/401/403/404, 429(요청 제한)\n",
    "   - `response.raise_for_status()`\n",
    "   - `try/except` + 재시도 로직\n",
    "\n",
    "5. **API 응답 → Pandas**\n",
    "   - `response.json()` → DataFrame 변환\n",
    "   - `pd.json_normalize()`로 중첩 JSON 평탄화\n",
    "   - 데이터 분석/시각화로 확장\n"
   ]
  },
  {
   "cell_type": "code",
   "execution_count": 1,
   "id": "43a92b7f",
   "metadata": {},
   "outputs": [
    {
     "name": "stdout",
     "output_type": "stream",
     "text": [
      "전체 게시글 수: 100\n",
      "userId별 게시글 수:\n",
      " userId\n",
      "1     10\n",
      "2     10\n",
      "3     10\n",
      "4     10\n",
      "5     10\n",
      "6     10\n",
      "7     10\n",
      "8     10\n",
      "9     10\n",
      "10    10\n",
      "Name: count, dtype: int64\n"
     ]
    }
   ],
   "source": [
    "# 전체 흐름 예시 #\n",
    "\n",
    "import requests\n",
    "import pandas as pd\n",
    "\n",
    "# 1. API 요청 (JSONPlaceholder 예시)\n",
    "url = \"https://jsonplaceholder.typicode.com/posts\"\n",
    "response = requests.get(url)\n",
    "response.raise_for_status()\n",
    "\n",
    "# 2. JSON 응답 → DataFrame 변환\n",
    "data = response.json()\n",
    "df = pd.DataFrame(data)\n",
    "\n",
    "# 3. 간단한 분석\n",
    "print(\"전체 게시글 수:\", len(df))\n",
    "print(\"userId별 게시글 수:\\n\", df[\"userId\"].value_counts())\n"
   ]
  },
  {
   "cell_type": "code",
   "execution_count": 2,
   "id": "39141a5a",
   "metadata": {},
   "outputs": [
    {
     "name": "stdout",
     "output_type": "stream",
     "text": [
      "404 Not Found - 잘못된 요청\n"
     ]
    }
   ],
   "source": [
    "# 에러 & 재시도 패턴 #\n",
    "\n",
    "import time\n",
    "\n",
    "for i in range(3):\n",
    "    response = requests.get(\"https://jsonplaceholder.typicode.com/unknown\")\n",
    "    if response.status_code == 404:\n",
    "        print(\"404 Not Found - 잘못된 요청\")\n",
    "        break\n",
    "    elif response.status_code == 429:\n",
    "        print(\"요청 제한 초과! 3초 대기...\")\n",
    "        time.sleep(3)\n",
    "    else:\n",
    "        print(\"정상 응답:\", response.json())\n",
    "        break\n"
   ]
  },
  {
   "cell_type": "markdown",
   "id": "714bc180",
   "metadata": {},
   "source": [
    "📝 메모\n",
    "\n",
    "- API 학습의 핵심은 흐름: 요청 → 인증 → 응답 확인 → 에러 처리 → 데이터 변환\n",
    "\n",
    "- 크롤링과 달리 API는 공식적인 통로이므로 안정적이고 확장성 높음\n",
    "\n",
    "- 실전 프로젝트에서는 API 문서 읽는 습관이 제일 중요 📑"
   ]
  }
 ],
 "metadata": {
  "kernelspec": {
   "display_name": "v_dl (3.10.12)",
   "language": "python",
   "name": "python3"
  },
  "language_info": {
   "codemirror_mode": {
    "name": "ipython",
    "version": 3
   },
   "file_extension": ".py",
   "mimetype": "text/x-python",
   "name": "python",
   "nbconvert_exporter": "python",
   "pygments_lexer": "ipython3",
   "version": "3.10.12"
  }
 },
 "nbformat": 4,
 "nbformat_minor": 5
}
