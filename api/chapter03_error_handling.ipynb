{
 "cells": [
  {
   "cell_type": "markdown",
   "id": "86341164",
   "metadata": {},
   "source": [
    "# 📄 3. 에러 처리 & 예외 상황\n",
    "\n",
    "## 🎯 학습 목표\n",
    "- API 호출 실패 시 상태 코드 확인\n",
    "- try/except 구문으로 에러 처리\n",
    "- Rate Limit(요청 제한) 대응 방법 학습\n",
    "\n",
    "---\n",
    "\n",
    "## ⚠️ 주요 에러 코드\n",
    "- **400 Bad Request**: 잘못된 요청\n",
    "- **401 Unauthorized**: 인증 실패 (키/토큰 오류)\n",
    "- **403 Forbidden**: 권한 없음\n",
    "- **404 Not Found**: 존재하지 않는 자원\n",
    "- **429 Too Many Requests**: 요청 제한 초과\n",
    "- **500 Internal Server Error**: 서버 에러\n",
    "\n",
    "---\n",
    "\n",
    "## 🌳 비유로 이해하기\n",
    "- 401 = “회원증이 없어서 입장 불가” 🚫\n",
    "- 404 = “찾는 책이 도서관에 없음” 📕❌\n",
    "- 429 = “한 번에 너무 많은 책 빌림 → 제지 당함” 📚🙅\n"
   ]
  },
  {
   "cell_type": "code",
   "execution_count": null,
   "id": "f756d44a",
   "metadata": {
    "vscode": {
     "languageId": "plaintext"
    }
   },
   "outputs": [],
   "source": [
    "import requests\n",
    "\n",
    "# 존재하지 않는 URL 요청\n",
    "url = \"https://jsonplaceholder.typicode.com/unknown\"\n",
    "response = requests.get(url)\n",
    "\n",
    "print(\"응답 코드:\", response.status_code)   # 404\n",
    "print(\"응답 내용:\", response.text)\n"
   ]
  },
  {
   "cell_type": "code",
   "execution_count": null,
   "id": "c300442d",
   "metadata": {
    "vscode": {
     "languageId": "plaintext"
    }
   },
   "outputs": [],
   "source": [
    "url = \"https://jsonplaceholder.typicode.com/posts/1\"\n",
    "\n",
    "try:\n",
    "    response = requests.get(url, timeout=2)\n",
    "    response.raise_for_status()  # 4xx, 5xx 에러 발생 시 예외 처리\n",
    "    data = response.json()\n",
    "    print(\"제목:\", data[\"title\"])\n",
    "except requests.exceptions.HTTPError as e:\n",
    "    print(\"HTTP 에러 발생:\", e)\n",
    "except requests.exceptions.Timeout:\n",
    "    print(\"요청 시간 초과 ⏱️\")\n",
    "except Exception as e:\n",
    "    print(\"기타 에러:\", e)\n"
   ]
  },
  {
   "cell_type": "code",
   "execution_count": null,
   "id": "23f78dec",
   "metadata": {
    "vscode": {
     "languageId": "plaintext"
    }
   },
   "outputs": [],
   "source": [
    "import time\n",
    "\n",
    "url = \"https://jsonplaceholder.typicode.com/posts/1\"\n",
    "\n",
    "for i in range(5):\n",
    "    response = requests.get(url)\n",
    "    if response.status_code == 429:\n",
    "        print(\"요청 제한 초과! 5초 대기...\")\n",
    "        time.sleep(5)  # 대기 후 재시도\n",
    "    else:\n",
    "        print(f\"{i+1}번째 요청 성공:\", response.json()[\"title\"])\n"
   ]
  },
  {
   "cell_type": "markdown",
   "id": "7d955498",
   "metadata": {},
   "source": [
    "📝 메모\n",
    "\n",
    "- 항상 response.status_code 확인 습관\n",
    "\n",
    "- response.raise_for_status() → 코드 깔끔해짐\n",
    "\n",
    "- 429 같은 경우는 time.sleep() + 재시도 로직 필요\n",
    "\n",
    "- 실무에서는 retry 라이브러리(예: tenacity)로 자동 재시도 구현"
   ]
  }
 ],
 "metadata": {
  "language_info": {
   "name": "python"
  }
 },
 "nbformat": 4,
 "nbformat_minor": 5
}
