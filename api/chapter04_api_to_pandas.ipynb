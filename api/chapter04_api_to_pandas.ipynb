{
 "cells": [
  {
   "cell_type": "markdown",
   "id": "9e92ebd0",
   "metadata": {},
   "source": [
    "# 📄 4. API 응답 → Pandas 변환\n",
    "\n",
    "## 🎯 학습 목표\n",
    "- API 응답(JSON)을 파싱해서 DataFrame으로 변환\n",
    "- 데이터 탐색 및 간단한 분석/시각화 실습\n",
    "\n",
    "---\n",
    "\n",
    "## ⚡ 주요 포인트\n",
    "- `response.json()` → dict/list 형태 데이터\n",
    "- `pd.DataFrame()` → 리스트/딕셔너리를 DataFrame으로 변환\n",
    "- `pd.json_normalize()` → 중첩 JSON을 평탄화\n",
    "\n",
    "---\n",
    "\n",
    "## 🌳 비유로 이해하기\n",
    "- JSON = 재료 꾸러미 🛍️ (계란, 밀가루, 우유)\n",
    "- DataFrame = 정리된 레시피 표 📑 (재료 → 행과 열에 정리)\n"
   ]
  },
  {
   "cell_type": "code",
   "execution_count": null,
   "id": "9595410d",
   "metadata": {
    "vscode": {
     "languageId": "plaintext"
    }
   },
   "outputs": [],
   "source": [
    "import requests\n",
    "import pandas as pd\n",
    "\n",
    "url = \"https://jsonplaceholder.typicode.com/posts\"\n",
    "response = requests.get(url)\n",
    "data = response.json()  # list[dict]\n",
    "\n",
    "# JSON → DataFrame\n",
    "df = pd.DataFrame(data)\n",
    "\n",
    "print(df.head())\n"
   ]
  },
  {
   "cell_type": "code",
   "execution_count": null,
   "id": "6640aa21",
   "metadata": {
    "vscode": {
     "languageId": "plaintext"
    }
   },
   "outputs": [],
   "source": [
    "# id, title, userId 컬럼만 선택\n",
    "df_simple = df[[\"id\", \"title\", \"userId\"]]\n",
    "print(df_simple.head())\n"
   ]
  },
  {
   "cell_type": "code",
   "execution_count": null,
   "id": "f6106048",
   "metadata": {
    "vscode": {
     "languageId": "plaintext"
    }
   },
   "outputs": [],
   "source": [
    "from pandas import json_normalize\n",
    "\n",
    "# 예시: 사용자 데이터 가져오기\n",
    "url = \"https://jsonplaceholder.typicode.com/users\"\n",
    "response = requests.get(url)\n",
    "users = response.json()\n",
    "\n",
    "df_users = json_normalize(users)  # 중첩 구조 → 평탄화\n",
    "print(df_users.head())\n"
   ]
  },
  {
   "cell_type": "code",
   "execution_count": null,
   "id": "113660a8",
   "metadata": {
    "vscode": {
     "languageId": "plaintext"
    }
   },
   "outputs": [],
   "source": [
    "import matplotlib.pyplot as plt\n",
    "\n",
    "# 사용자별 게시글 수 카운트\n",
    "posts_per_user = df[\"userId\"].value_counts().sort_index()\n",
    "\n",
    "posts_per_user.plot(kind=\"bar\")\n",
    "plt.xlabel(\"User ID\")\n",
    "plt.ylabel(\"Number of Posts\")\n",
    "plt.title(\"Posts per User\")\n",
    "plt.show()\n"
   ]
  },
  {
   "cell_type": "markdown",
   "id": "7e50b661",
   "metadata": {},
   "source": [
    "📝 메모\n",
    "\n",
    "- JSON → DataFrame은 데이터 분석의 첫 관문\n",
    "\n",
    "- json_normalize()는 중첩 데이터(API 응답에 자주 나옴) 처리에 필수\n",
    "\n",
    "- Pandas로 변환하면 바로 분석/시각화/머신러닝까지 연결 가능"
   ]
  }
 ],
 "metadata": {
  "language_info": {
   "name": "python"
  }
 },
 "nbformat": 4,
 "nbformat_minor": 5
}
