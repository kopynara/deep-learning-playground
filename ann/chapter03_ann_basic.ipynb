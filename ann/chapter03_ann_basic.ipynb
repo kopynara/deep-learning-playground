{
 "cells": [
  {
   "cell_type": "markdown",
   "id": "db83dec3",
   "metadata": {},
   "source": [
    "# ANN 03: ANN 기본 확장\n",
    "\n",
    "이번 챕터에서는 Fashion-MNIST 데이터셋에 대해  \n",
    "ANN의 **은닉층(hidden layer) 구조**를 바꿔가며 성능을 확인합니다.\n",
    "\n",
    "📌 목표:\n",
    "- 은닉층 추가\n",
    "- 뉴런 수 변화\n",
    "- 모델 성능 비교\n"
   ]
  },
  {
   "cell_type": "code",
   "execution_count": 1,
   "id": "f45c7974",
   "metadata": {},
   "outputs": [
    {
     "name": "stderr",
     "output_type": "stream",
     "text": [
      "2025-09-01 18:22:15.354883: I external/local_xla/xla/tsl/cuda/cudart_stub.cc:31] Could not find cuda drivers on your machine, GPU will not be used.\n",
      "2025-09-01 18:22:15.457385: I tensorflow/core/platform/cpu_feature_guard.cc:210] This TensorFlow binary is optimized to use available CPU instructions in performance-critical operations.\n",
      "To enable the following instructions: AVX2 FMA, in other operations, rebuild TensorFlow with the appropriate compiler flags.\n",
      "2025-09-01 18:22:18.140823: I external/local_xla/xla/tsl/cuda/cudart_stub.cc:31] Could not find cuda drivers on your machine, GPU will not be used.\n"
     ]
    },
    {
     "name": "stdout",
     "output_type": "stream",
     "text": [
      "✅ 데이터 준비 완료: (60000, 28, 28) (60000,)\n"
     ]
    }
   ],
   "source": [
    "import numpy as np\n",
    "import matplotlib.pyplot as plt\n",
    "import matplotlib.font_manager as fm\n",
    "import platform\n",
    "import tensorflow as tf\n",
    "from tensorflow import keras\n",
    "from tensorflow.keras import layers\n",
    "\n",
    "# 한글 폰트 설정\n",
    "if platform.system() == 'Linux':\n",
    "    plt.rcParams['font.family'] = 'NanumGothic'\n",
    "elif platform.system() == 'Darwin':\n",
    "    plt.rcParams['font.family'] = 'AppleGothic'\n",
    "else:\n",
    "    plt.rcParams['font.family'] = 'Malgun Gothic'\n",
    "\n",
    "plt.rcParams['axes.unicode_minus'] = False\n",
    "\n",
    "# 데이터 로드 & 정규화\n",
    "(x_train, y_train), (x_test, y_test) = keras.datasets.fashion_mnist.load_data()\n",
    "x_train, x_test = x_train / 255.0, x_test / 255.0\n",
    "\n",
    "print(\"✅ 데이터 준비 완료:\", x_train.shape, y_train.shape)\n"
   ]
  },
  {
   "cell_type": "markdown",
   "id": "d5e2378a",
   "metadata": {},
   "source": [
    "## 🧠 ANN 기본 모델 (baseline)\n",
    "- Flatten → Dense(128, relu) → Dense(10, softmax)\n"
   ]
  },
  {
   "cell_type": "code",
   "execution_count": 2,
   "id": "c5d47105",
   "metadata": {},
   "outputs": [
    {
     "name": "stderr",
     "output_type": "stream",
     "text": [
      "/home/ccd/dl/v_dl/lib/python3.10/site-packages/keras/src/layers/reshaping/flatten.py:37: UserWarning: Do not pass an `input_shape`/`input_dim` argument to a layer. When using Sequential models, prefer using an `Input(shape)` object as the first layer in the model instead.\n",
      "  super().__init__(**kwargs)\n",
      "2025-09-01 18:22:20.063357: E external/local_xla/xla/stream_executor/cuda/cuda_platform.cc:51] failed call to cuInit: INTERNAL: CUDA error: Failed call to cuInit: UNKNOWN ERROR (303)\n"
     ]
    },
    {
     "name": "stdout",
     "output_type": "stream",
     "text": [
      "✅ baseline 학습 완료\n"
     ]
    }
   ],
   "source": [
    "baseline = keras.Sequential([\n",
    "    layers.Flatten(input_shape=(28, 28)),\n",
    "    layers.Dense(128, activation=\"relu\"),\n",
    "    layers.Dense(10, activation=\"softmax\")\n",
    "])\n",
    "\n",
    "baseline.compile(optimizer=\"adam\",\n",
    "                 loss=\"sparse_categorical_crossentropy\",\n",
    "                 metrics=[\"accuracy\"])\n",
    "\n",
    "history_baseline = baseline.fit(x_train, y_train,\n",
    "                                epochs=5,\n",
    "                                validation_split=0.1,\n",
    "                                batch_size=32,\n",
    "                                verbose=0)\n",
    "\n",
    "print(\"✅ baseline 학습 완료\")\n"
   ]
  },
  {
   "cell_type": "markdown",
   "id": "d55bf271",
   "metadata": {},
   "source": [
    "## 🔧 모델 확장 1: 은닉층 2개\n",
    "- Flatten → Dense(128, relu) → Dense(64, relu) → Dense(10, softmax)\n"
   ]
  },
  {
   "cell_type": "code",
   "execution_count": 3,
   "id": "f88c165a",
   "metadata": {},
   "outputs": [
    {
     "name": "stdout",
     "output_type": "stream",
     "text": [
      "✅ model2 학습 완료\n"
     ]
    }
   ],
   "source": [
    "model2 = keras.Sequential([\n",
    "    layers.Flatten(input_shape=(28, 28)),\n",
    "    layers.Dense(128, activation=\"relu\"),\n",
    "    layers.Dense(64, activation=\"relu\"),\n",
    "    layers.Dense(10, activation=\"softmax\")\n",
    "])\n",
    "\n",
    "model2.compile(optimizer=\"adam\",\n",
    "               loss=\"sparse_categorical_crossentropy\",\n",
    "               metrics=[\"accuracy\"])\n",
    "\n",
    "history2 = model2.fit(x_train, y_train,\n",
    "                      epochs=5,\n",
    "                      validation_split=0.1,\n",
    "                      batch_size=32,\n",
    "                      verbose=0)\n",
    "\n",
    "print(\"✅ model2 학습 완료\")\n"
   ]
  },
  {
   "cell_type": "markdown",
   "id": "702513c4",
   "metadata": {},
   "source": [
    "## 🔧 모델 확장 2: 뉴런 수 증가\n",
    "- Flatten → Dense(256, relu) → Dense(10, softmax)\n"
   ]
  },
  {
   "cell_type": "code",
   "execution_count": 4,
   "id": "1f464ab8",
   "metadata": {},
   "outputs": [
    {
     "name": "stdout",
     "output_type": "stream",
     "text": [
      "✅ model3 학습 완료\n"
     ]
    }
   ],
   "source": [
    "model3 = keras.Sequential([\n",
    "    layers.Flatten(input_shape=(28, 28)),\n",
    "    layers.Dense(256, activation=\"relu\"),\n",
    "    layers.Dense(10, activation=\"softmax\")\n",
    "])\n",
    "\n",
    "model3.compile(optimizer=\"adam\",\n",
    "               loss=\"sparse_categorical_crossentropy\",\n",
    "               metrics=[\"accuracy\"])\n",
    "\n",
    "history3 = model3.fit(x_train, y_train,\n",
    "                      epochs=5,\n",
    "                      validation_split=0.1,\n",
    "                      batch_size=32,\n",
    "                      verbose=0)\n",
    "\n",
    "print(\"✅ model3 학습 완료\")\n"
   ]
  },
  {
   "cell_type": "markdown",
   "id": "5355315c",
   "metadata": {},
   "source": [
    "## 📊 모델 성능 비교\n"
   ]
  },
  {
   "cell_type": "code",
   "execution_count": 5,
   "id": "0769c51c",
   "metadata": {},
   "outputs": [
    {
     "name": "stdout",
     "output_type": "stream",
     "text": [
      "Baseline (128) 정확도: 0.8554\n",
      "2 Hidden Layers 정확도: 0.8708\n",
      "More Neurons (256) 정확도: 0.8770\n"
     ]
    }
   ],
   "source": [
    "test_baseline = baseline.evaluate(x_test, y_test, verbose=0)[1]\n",
    "test_model2 = model2.evaluate(x_test, y_test, verbose=0)[1]\n",
    "test_model3 = model3.evaluate(x_test, y_test, verbose=0)[1]\n",
    "\n",
    "print(f\"Baseline (128) 정확도: {test_baseline:.4f}\")\n",
    "print(f\"2 Hidden Layers 정확도: {test_model2:.4f}\")\n",
    "print(f\"More Neurons (256) 정확도: {test_model3:.4f}\")\n"
   ]
  },
  {
   "cell_type": "markdown",
   "id": "c54ed6a0",
   "metadata": {},
   "source": [
    "## ✅ 정리\n",
    "- 은닉층을 늘리거나 뉴런 수를 조절하면 성능 차이가 발생\n",
    "- 단, 무조건 깊거나 크다고 좋은 것은 아님 (과적합 주의)\n",
    "\n",
    "👉 다음 챕터: **ANN 모델 빌드 심화 (정규화, 활성화 함수, 옵티마이저 등)**\n"
   ]
  }
 ],
 "metadata": {
  "kernelspec": {
   "display_name": "v_dl (3.10.12)",
   "language": "python",
   "name": "python3"
  },
  "language_info": {
   "codemirror_mode": {
    "name": "ipython",
    "version": 3
   },
   "file_extension": ".py",
   "mimetype": "text/x-python",
   "name": "python",
   "nbconvert_exporter": "python",
   "pygments_lexer": "ipython3",
   "version": "3.10.12"
  }
 },
 "nbformat": 4,
 "nbformat_minor": 5
}
