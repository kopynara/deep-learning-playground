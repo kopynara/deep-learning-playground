{
 "cells": [
  {
   "cell_type": "markdown",
   "id": "b44e621b",
   "metadata": {},
   "source": [
    "# ANN 07: 핵심 키워드 정리\n",
    "\n",
    "이번 챕터에서는 지금까지 배운 내용을 **핵심 키워드 중심**으로 정리합니다.  \n",
    "👉 빠르게 복습할 수 있는 \"치트시트\" 용도!\n"
   ]
  },
  {
   "cell_type": "markdown",
   "id": "24421db7",
   "metadata": {},
   "source": [
    "## 📂 데이터셋 (Fashion-MNIST)\n",
    "- 28x28 픽셀, 흑백 이미지\n",
    "- 10개 클래스 (의류 종류)\n",
    "- 학습(train): 60,000개 / 테스트(test): 10,000개\n"
   ]
  },
  {
   "cell_type": "markdown",
   "id": "b8e51eef",
   "metadata": {},
   "source": [
    "## 🧠 ANN 기본 구조\n",
    "- 입력층(Input layer): 이미지(28x28) → 벡터화(784)\n",
    "- 은닉층(Hidden layer): Dense(뉴런 개수 + 활성화 함수)\n",
    "- 출력층(Output layer): 10 클래스 → softmax\n"
   ]
  },
  {
   "cell_type": "markdown",
   "id": "58dffb83",
   "metadata": {},
   "source": [
    "## 🔑 주요 개념\n",
    "- **Flatten**: 2D 이미지 → 1D 벡터\n",
    "- **Dense Layer**: Fully Connected Layer\n",
    "- **Activation Function**\n",
    "  - ReLU: 가장 많이 쓰임 (빠르고 효율적)\n",
    "  - Sigmoid: 0~1 범위 (심층 모델에선 기울기 소실 문제)\n",
    "  - Tanh: -1~1 범위\n",
    "  - Softmax: 다중 클래스 분류\n"
   ]
  },
  {
   "cell_type": "markdown",
   "id": "72a0494d",
   "metadata": {},
   "source": [
    "## ⚙️ 학습 요소\n",
    "- **Optimizer**\n",
    "  - Adam: 기본값, 성능 안정적\n",
    "  - SGD: 단순, 학습 느림\n",
    "  - RMSprop: RNN에서 자주 사용\n",
    "- **Loss Function**\n",
    "  - CrossEntropy: 분류 문제에서 기본\n",
    "- **Metrics**\n",
    "  - Accuracy: 분류 성능 평가\n"
   ]
  },
  {
   "cell_type": "markdown",
   "id": "33e05a52",
   "metadata": {},
   "source": [
    "## 🛡️ 과적합 방지\n",
    "- **Dropout**: 학습 시 무작위 뉴런 끄기\n",
    "- **Validation set**: 검증 데이터로 모델 일반화 성능 확인\n",
    "- **EarlyStopping** (추후): 과적합 시작 전에 학습 조기 종료\n"
   ]
  },
  {
   "cell_type": "markdown",
   "id": "e0b5462f",
   "metadata": {},
   "source": [
    "## 📊 성능 분석\n",
    "- **학습 곡선**: Train vs Validation 정확도/손실\n",
    "- **Confusion Matrix**: 클래스별 예측/정답 비교\n",
    "- **Classification Report**: Precision / Recall / F1-score\n"
   ]
  },
  {
   "cell_type": "markdown",
   "id": "25749c0d",
   "metadata": {},
   "source": [
    "## ✅ 요약\n",
    "1. ANN은 입력 → 은닉층(활성화) → 출력층(softmax) 구조\n",
    "2. Optimizer/Loss/Activation 함수 선택이 중요\n",
    "3. Dropout, Validation set으로 과적합 방지\n",
    "4. 성능 평가는 Accuracy + Confusion Matrix + Report 활용\n"
   ]
  }
 ],
 "metadata": {
  "language_info": {
   "name": "python"
  }
 },
 "nbformat": 4,
 "nbformat_minor": 5
}
