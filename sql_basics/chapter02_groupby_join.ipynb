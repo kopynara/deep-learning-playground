{
 "cells": [
  {
   "cell_type": "markdown",
   "metadata": {},
   "source": [
    "# SQL Basics\n",
    "\n",
    "이 노트북은 SQL 기초 학습을 위한 템플릿입니다. 🚀"
   ]
  },
  {
   "cell_type": "markdown",
   "id": "eeeafb04",
   "metadata": {},
   "source": [
    "# SQL Basics 02: GROUP BY & JOIN\n",
    "\n",
    "이 챕터에서는 데이터를 묶고 연결하는 방법을 배웁니다.  \n",
    "- GROUP BY: 데이터를 특정 기준으로 그룹화  \n",
    "- JOIN: 여러 테이블 연결하기  \n",
    "\n",
    "👉 `sample.db`의 `users`, `orders` 테이블을 사용합니다.\n"
   ]
  },
  {
   "cell_type": "code",
   "execution_count": null,
   "id": "a673cc02",
   "metadata": {
    "vscode": {
     "languageId": "plaintext"
    }
   },
   "outputs": [],
   "source": [
    "import sqlite3\n",
    "\n",
    "# sample.db 불러오기\n",
    "conn = sqlite3.connect(\"sample.db\")\n",
    "cursor = conn.cursor()\n",
    "\n",
    "print(\"✅ sample.db 연결 완료\")\n"
   ]
  },
  {
   "cell_type": "markdown",
   "id": "af390306",
   "metadata": {},
   "source": [
    "## 📊 GROUP BY 기본\n",
    "\n",
    "문법:\n",
    "```sql\n",
    "SELECT column, aggregate_function(column) \n",
    "FROM table \n",
    "GROUP BY column;\n"
   ]
  },
  {
   "cell_type": "code",
   "execution_count": null,
   "id": "924d429b",
   "metadata": {
    "vscode": {
     "languageId": "plaintext"
    }
   },
   "outputs": [],
   "source": [
    "\n",
    "### 🔹 셀 4 (코드)\n",
    "\n",
    "cursor.execute(\"\"\"\n",
    "SELECT user_id, COUNT(*) AS order_count\n",
    "FROM orders\n",
    "GROUP BY user_id\n",
    "\"\"\")\n",
    "for row in cursor.fetchall():\n",
    "    print(row)\n"
   ]
  },
  {
   "cell_type": "markdown",
   "id": "b1203005",
   "metadata": {},
   "source": [
    "## 📦 GROUP BY + 집계함수\n",
    "\n",
    "자주 쓰는 집계 함수:\n",
    "- COUNT(): 개수\n",
    "- SUM(): 합계\n",
    "- AVG(): 평균\n",
    "- MAX(): 최대값\n",
    "- MIN(): 최소값  \n",
    "\n",
    "예: user_id 별 주문 총 수량(amount) 합계\n"
   ]
  },
  {
   "cell_type": "code",
   "execution_count": null,
   "id": "553ca084",
   "metadata": {
    "vscode": {
     "languageId": "plaintext"
    }
   },
   "outputs": [],
   "source": [
    "cursor.execute(\"\"\"\n",
    "SELECT user_id, SUM(amount) AS total_amount\n",
    "FROM orders\n",
    "GROUP BY user_id\n",
    "\"\"\")\n",
    "for row in cursor.fetchall():\n",
    "    print(row)\n"
   ]
  },
  {
   "cell_type": "markdown",
   "id": "c4fe7eea",
   "metadata": {},
   "source": [
    "## 🔗 INNER JOIN\n",
    "\n",
    "JOIN 문법:\n",
    "```sql\n",
    "SELECT A.column, B.column\n",
    "FROM A\n",
    "JOIN B ON A.key = B.key;\n"
   ]
  },
  {
   "cell_type": "code",
   "execution_count": null,
   "id": "0f176d5a",
   "metadata": {
    "vscode": {
     "languageId": "plaintext"
    }
   },
   "outputs": [],
   "source": [
    "\n",
    "### 🔹 셀 8 (코드)\n",
    "\n",
    "cursor.execute(\"\"\"\n",
    "SELECT u.name, o.product, o.amount\n",
    "FROM orders o\n",
    "JOIN users u ON o.user_id = u.id\n",
    "\"\"\")\n",
    "for row in cursor.fetchall():\n",
    "    print(row)\n"
   ]
  },
  {
   "cell_type": "markdown",
   "id": "5be8ebe8",
   "metadata": {},
   "source": [
    "## 🔄 LEFT JOIN\n",
    "\n",
    "LEFT JOIN: 왼쪽 테이블은 모두 표시, 오른쪽은 매칭되는 값만 표시.  \n",
    "예: users 기준으로, 주문이 없는 사용자도 표시하기\n"
   ]
  },
  {
   "cell_type": "code",
   "execution_count": null,
   "id": "92010707",
   "metadata": {
    "vscode": {
     "languageId": "plaintext"
    }
   },
   "outputs": [],
   "source": [
    "cursor.execute(\"\"\"\n",
    "SELECT u.name, o.product\n",
    "FROM users u\n",
    "LEFT JOIN orders o ON u.id = o.user_id\n",
    "\"\"\")\n",
    "for row in cursor.fetchall():\n",
    "    print(row)\n"
   ]
  },
  {
   "cell_type": "markdown",
   "id": "aa8d8d16",
   "metadata": {},
   "source": [
    "## ✅ 정리\n",
    "\n",
    "이번 챕터에서 배운 것:\n",
    "- GROUP BY 기본\n",
    "- 집계 함수 (COUNT, SUM, AVG 등)\n",
    "- INNER JOIN\n",
    "- LEFT JOIN\n",
    "\n",
    "👉 다음 챕터: **SQL → pandas 연동**\n"
   ]
  }
 ],
 "metadata": {
  "kernelspec": {
   "display_name": "Python 3",
   "language": "python",
   "name": "python3"
  },
  "language_info": {
   "name": "python",
   "version": "3.x"
  }
 },
 "nbformat": 4,
 "nbformat_minor": 5
}
