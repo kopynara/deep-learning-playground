{
 "cells": [
  {
   "cell_type": "markdown",
   "metadata": {},
   "source": [
    "# SQL Basics\n",
    "\n",
    "이 노트북은 SQL 기초 학습을 위한 템플릿입니다. 🚀"
   ]
  },
  {
   "cell_type": "markdown",
   "id": "e3679256",
   "metadata": {},
   "source": [
    "# SQL Basics 03: SQL → pandas 연동\n",
    "\n",
    "이 챕터에서는 SQL 데이터를 **Python pandas**와 연결합니다.  \n",
    "- sqlite3 + pandas 사용  \n",
    "- SQL 쿼리 결과를 DataFrame으로 변환  \n",
    "- pandas를 이용한 추가 분석\n"
   ]
  },
  {
   "cell_type": "code",
   "execution_count": 1,
   "id": "762af57b",
   "metadata": {},
   "outputs": [
    {
     "name": "stdout",
     "output_type": "stream",
     "text": [
      "✅ sample.db 연결 완료\n"
     ]
    }
   ],
   "source": [
    "import sqlite3\n",
    "import pandas as pd\n",
    "\n",
    "# sample.db 불러오기\n",
    "conn = sqlite3.connect(\"sample.db\")\n",
    "\n",
    "print(\"✅ sample.db 연결 완료\")\n"
   ]
  },
  {
   "cell_type": "markdown",
   "id": "b7cd90ba",
   "metadata": {},
   "source": [
    "## 📥 SQL → pandas\n",
    "\n",
    "pandas의 `read_sql()`을 사용하면 SQL 결과를 바로 DataFrame으로 불러올 수 있습니다.  \n",
    "예: users 테이블 전체 조회\n"
   ]
  },
  {
   "cell_type": "code",
   "execution_count": 2,
   "id": "a225a0cd",
   "metadata": {},
   "outputs": [
    {
     "data": {
      "application/vnd.microsoft.datawrangler.viewer.v0+json": {
       "columns": [
        {
         "name": "index",
         "rawType": "int64",
         "type": "integer"
        },
        {
         "name": "id",
         "rawType": "int64",
         "type": "integer"
        },
        {
         "name": "name",
         "rawType": "object",
         "type": "string"
        },
        {
         "name": "age",
         "rawType": "int64",
         "type": "integer"
        },
        {
         "name": "city",
         "rawType": "object",
         "type": "string"
        }
       ],
       "ref": "9332e4c9-016e-4142-ade8-c94aebf65687",
       "rows": [
        [
         "0",
         "1",
         "Alice",
         "25",
         "Seoul"
        ],
        [
         "1",
         "2",
         "Bob",
         "30",
         "Busan"
        ],
        [
         "2",
         "3",
         "Charlie",
         "35",
         "Incheon"
        ]
       ],
       "shape": {
        "columns": 4,
        "rows": 3
       }
      },
      "text/html": [
       "<div>\n",
       "<style scoped>\n",
       "    .dataframe tbody tr th:only-of-type {\n",
       "        vertical-align: middle;\n",
       "    }\n",
       "\n",
       "    .dataframe tbody tr th {\n",
       "        vertical-align: top;\n",
       "    }\n",
       "\n",
       "    .dataframe thead th {\n",
       "        text-align: right;\n",
       "    }\n",
       "</style>\n",
       "<table border=\"1\" class=\"dataframe\">\n",
       "  <thead>\n",
       "    <tr style=\"text-align: right;\">\n",
       "      <th></th>\n",
       "      <th>id</th>\n",
       "      <th>name</th>\n",
       "      <th>age</th>\n",
       "      <th>city</th>\n",
       "    </tr>\n",
       "  </thead>\n",
       "  <tbody>\n",
       "    <tr>\n",
       "      <th>0</th>\n",
       "      <td>1</td>\n",
       "      <td>Alice</td>\n",
       "      <td>25</td>\n",
       "      <td>Seoul</td>\n",
       "    </tr>\n",
       "    <tr>\n",
       "      <th>1</th>\n",
       "      <td>2</td>\n",
       "      <td>Bob</td>\n",
       "      <td>30</td>\n",
       "      <td>Busan</td>\n",
       "    </tr>\n",
       "    <tr>\n",
       "      <th>2</th>\n",
       "      <td>3</td>\n",
       "      <td>Charlie</td>\n",
       "      <td>35</td>\n",
       "      <td>Incheon</td>\n",
       "    </tr>\n",
       "  </tbody>\n",
       "</table>\n",
       "</div>"
      ],
      "text/plain": [
       "   id     name  age     city\n",
       "0   1    Alice   25    Seoul\n",
       "1   2      Bob   30    Busan\n",
       "2   3  Charlie   35  Incheon"
      ]
     },
     "execution_count": 2,
     "metadata": {},
     "output_type": "execute_result"
    }
   ],
   "source": [
    "df_users = pd.read_sql(\"SELECT * FROM users\", conn)\n",
    "df_users\n"
   ]
  },
  {
   "cell_type": "markdown",
   "id": "cb75a62a",
   "metadata": {},
   "source": [
    "## 📦 JOIN 결과 → DataFrame\n",
    "\n",
    "SQL에서 JOIN한 결과를 pandas로 불러오기.  \n",
    "예: 사용자 이름, 상품, 수량\n"
   ]
  },
  {
   "cell_type": "code",
   "execution_count": 3,
   "id": "a327cf40",
   "metadata": {},
   "outputs": [
    {
     "data": {
      "application/vnd.microsoft.datawrangler.viewer.v0+json": {
       "columns": [
        {
         "name": "index",
         "rawType": "int64",
         "type": "integer"
        },
        {
         "name": "name",
         "rawType": "object",
         "type": "string"
        },
        {
         "name": "product",
         "rawType": "object",
         "type": "string"
        },
        {
         "name": "amount",
         "rawType": "int64",
         "type": "integer"
        }
       ],
       "ref": "5b2d8c2d-6462-4dff-b89e-71a145108619",
       "rows": [
        [
         "0",
         "Alice",
         "Laptop",
         "1"
        ],
        [
         "1",
         "Bob",
         "Mouse",
         "2"
        ],
        [
         "2",
         "Bob",
         "Keyboard",
         "1"
        ],
        [
         "3",
         "Charlie",
         "Monitor",
         "1"
        ]
       ],
       "shape": {
        "columns": 3,
        "rows": 4
       }
      },
      "text/html": [
       "<div>\n",
       "<style scoped>\n",
       "    .dataframe tbody tr th:only-of-type {\n",
       "        vertical-align: middle;\n",
       "    }\n",
       "\n",
       "    .dataframe tbody tr th {\n",
       "        vertical-align: top;\n",
       "    }\n",
       "\n",
       "    .dataframe thead th {\n",
       "        text-align: right;\n",
       "    }\n",
       "</style>\n",
       "<table border=\"1\" class=\"dataframe\">\n",
       "  <thead>\n",
       "    <tr style=\"text-align: right;\">\n",
       "      <th></th>\n",
       "      <th>name</th>\n",
       "      <th>product</th>\n",
       "      <th>amount</th>\n",
       "    </tr>\n",
       "  </thead>\n",
       "  <tbody>\n",
       "    <tr>\n",
       "      <th>0</th>\n",
       "      <td>Alice</td>\n",
       "      <td>Laptop</td>\n",
       "      <td>1</td>\n",
       "    </tr>\n",
       "    <tr>\n",
       "      <th>1</th>\n",
       "      <td>Bob</td>\n",
       "      <td>Mouse</td>\n",
       "      <td>2</td>\n",
       "    </tr>\n",
       "    <tr>\n",
       "      <th>2</th>\n",
       "      <td>Bob</td>\n",
       "      <td>Keyboard</td>\n",
       "      <td>1</td>\n",
       "    </tr>\n",
       "    <tr>\n",
       "      <th>3</th>\n",
       "      <td>Charlie</td>\n",
       "      <td>Monitor</td>\n",
       "      <td>1</td>\n",
       "    </tr>\n",
       "  </tbody>\n",
       "</table>\n",
       "</div>"
      ],
      "text/plain": [
       "      name   product  amount\n",
       "0    Alice    Laptop       1\n",
       "1      Bob     Mouse       2\n",
       "2      Bob  Keyboard       1\n",
       "3  Charlie   Monitor       1"
      ]
     },
     "execution_count": 3,
     "metadata": {},
     "output_type": "execute_result"
    }
   ],
   "source": [
    "df_orders = pd.read_sql(\"\"\"\n",
    "SELECT u.name, o.product, o.amount\n",
    "FROM orders o\n",
    "JOIN users u ON o.user_id = u.id\n",
    "\"\"\", conn)\n",
    "\n",
    "df_orders\n"
   ]
  },
  {
   "cell_type": "markdown",
   "id": "f26ed407",
   "metadata": {},
   "source": [
    "## 📊 pandas로 추가 분석\n",
    "\n",
    "SQL로 가져온 DataFrame은 pandas의 기능을 그대로 활용할 수 있습니다.  \n",
    "예: 사용자별 총 주문 수량\n"
   ]
  },
  {
   "cell_type": "code",
   "execution_count": 4,
   "id": "7fb7e94f",
   "metadata": {},
   "outputs": [
    {
     "data": {
      "application/vnd.microsoft.datawrangler.viewer.v0+json": {
       "columns": [
        {
         "name": "name",
         "rawType": "object",
         "type": "string"
        },
        {
         "name": "amount",
         "rawType": "int64",
         "type": "integer"
        }
       ],
       "ref": "4cf4d24f-560a-40f1-853f-97a54d030b93",
       "rows": [
        [
         "Alice",
         "1"
        ],
        [
         "Bob",
         "3"
        ],
        [
         "Charlie",
         "1"
        ]
       ],
       "shape": {
        "columns": 1,
        "rows": 3
       }
      },
      "text/plain": [
       "name\n",
       "Alice      1\n",
       "Bob        3\n",
       "Charlie    1\n",
       "Name: amount, dtype: int64"
      ]
     },
     "execution_count": 4,
     "metadata": {},
     "output_type": "execute_result"
    }
   ],
   "source": [
    "df_orders.groupby(\"name\")[\"amount\"].sum()\n"
   ]
  },
  {
   "cell_type": "markdown",
   "id": "e0f94df3",
   "metadata": {},
   "source": [
    "## 📊 사용자별 주문 수량 시각화\n",
    "\n",
    "pandas + matplotlib을 이용해 사용자별 총 주문 수량을 막대그래프로 시각화합니다.\n"
   ]
  },
  {
   "cell_type": "code",
   "execution_count": 5,
   "id": "ebe6a561",
   "metadata": {},
   "outputs": [
    {
     "data": {
      "image/png": "[encoded data removed]",
      "text/plain": [
       "<Figure size 600x400 with 1 Axes>"
      ]
     },
     "metadata": {},
     "output_type": "display_data"
    }
   ],
   "source": [
    "import matplotlib.pyplot as plt\n",
    "import matplotlib.font_manager as fm\n",
    "import platform\n",
    "\n",
    "# 한글 + 이모지 폰트 설정 (운영체제별로 자동 감지)\n",
    "if platform.system() == 'Linux':\n",
    "    plt.rcParams['font.family'] = 'NanumGothic'\n",
    "elif platform.system() == 'Darwin':  # macOS\n",
    "    plt.rcParams['font.family'] = 'AppleGothic'\n",
    "else:  # Windows\n",
    "    plt.rcParams['font.family'] = 'Malgun Gothic'\n",
    "\n",
    "# 마이너 경고 방지 (음수 마크 깨지는 현상 등)\n",
    "plt.rcParams['axes.unicode_minus'] = False\n",
    "\n",
    "# 사용자별 주문 합계\n",
    "order_sum = df_orders.groupby(\"name\")[\"amount\"].sum()\n",
    "\n",
    "# 시각화\n",
    "order_sum.plot(kind=\"bar\", figsize=(6,4))\n",
    "plt.title(\"사용자별 주문 수량\")\n",
    "plt.xlabel(\"사용자\")\n",
    "plt.ylabel(\"주문 수량\")\n",
    "plt.show()\n"
   ]
  },
  {
   "cell_type": "markdown",
   "id": "fbcb7f81",
   "metadata": {},
   "source": [
    "## ✅ 정리\n",
    "\n",
    "이번 챕터에서 배운 것:\n",
    "- pandas `read_sql()`로 SQL → DataFrame 변환\n",
    "- SQL JOIN 결과를 DataFrame으로 불러오기\n",
    "- pandas로 추가 분석 (groupby 등)\n",
    "\n",
    "👉 SQL 기초 학습 완료 🎉  \n",
    "이제 이 DB와 pandas를 활용해 **크롤링 데이터 파이프라인**으로 이어갑니다!\n"
   ]
  }
 ],
 "metadata": {
  "kernelspec": {
   "display_name": "v_dl (3.10.12)",
   "language": "python",
   "name": "python3"
  },
  "language_info": {
   "codemirror_mode": {
    "name": "ipython",
    "version": 3
   },
   "file_extension": ".py",
   "mimetype": "text/x-python",
   "name": "python",
   "nbconvert_exporter": "python",
   "pygments_lexer": "ipython3",
   "version": "3.10.12"
  }
 },
 "nbformat": 4,
 "nbformat_minor": 5
}
