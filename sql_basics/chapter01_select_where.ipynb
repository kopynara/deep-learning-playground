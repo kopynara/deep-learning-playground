{
 "cells": [
  {
   "cell_type": "markdown",
   "metadata": {},
   "source": [
    "# SQL Basics\n",
    "\n",
    "이 노트북은 SQL 기초 학습을 위한 템플릿입니다. 🚀"
   ]
  },
  {
   "cell_type": "markdown",
   "id": "ff1620a3",
   "metadata": {},
   "source": [
    "# SQL Basics 01: SELECT & WHERE\n",
    "\n",
    "이 챕터에서는 SQL의 가장 기본적인 문법을 배웁니다.  \n",
    "- **SELECT**: 원하는 열(column)만 조회하기  \n",
    "- **WHERE**: 조건을 걸어서 원하는 행(row)만 가져오기  \n",
    "\n",
    "👉 `chapter00`에서 만든 `sample.db`를 활용합니다.\n",
    "\n"
   ]
  },
  {
   "cell_type": "code",
   "execution_count": 15,
   "id": "2e11e9bb",
   "metadata": {},
   "outputs": [
    {
     "name": "stdout",
     "output_type": "stream",
     "text": [
      "✅ sample.db 연결 완료\n"
     ]
    }
   ],
   "source": [
    "import sqlite3\n",
    "\n",
    "# sample.db 불러오기\n",
    "conn = sqlite3.connect(\"sample.db\")\n",
    "cursor = conn.cursor()\n",
    "\n",
    "print(\"✅ sample.db 연결 완료\")\n"
   ]
  },
  {
   "cell_type": "markdown",
   "id": "16711a29",
   "metadata": {},
   "source": [
    "## 🟢 SELECT 기본 문법\n",
    "\n",
    "```sql\n",
    "SELECT column1, column2 FROM table;\n"
   ]
  },
  {
   "cell_type": "code",
   "execution_count": 16,
   "id": "da3b096c",
   "metadata": {},
   "outputs": [
    {
     "name": "stdout",
     "output_type": "stream",
     "text": [
      "(1, 'Alice', 25, 'Seoul')\n",
      "(2, 'Bob', 30, 'Busan')\n",
      "(3, 'Charlie', 35, 'Incheon')\n"
     ]
    }
   ],
   "source": [
    "### 4. 코드: SELECT 전체 조회\n",
    "\n",
    "cursor.execute(\"SELECT * FROM users\")\n",
    "for row in cursor.fetchall():\n",
    "    print(row)\n"
   ]
  },
  {
   "cell_type": "markdown",
   "id": "66fc9f8f",
   "metadata": {},
   "source": [
    "## 🎯 특정 열만 조회하기\n",
    "\n",
    "예) users 테이블에서 이름(name)과 도시(city)만 조회\n"
   ]
  },
  {
   "cell_type": "code",
   "execution_count": 17,
   "id": "46171246",
   "metadata": {},
   "outputs": [
    {
     "name": "stdout",
     "output_type": "stream",
     "text": [
      "('Alice', 'Seoul')\n",
      "('Bob', 'Busan')\n",
      "('Charlie', 'Incheon')\n"
     ]
    }
   ],
   "source": [
    "cursor.execute(\"SELECT name, city FROM users\")\n",
    "for row in cursor.fetchall():\n",
    "    print(row)\n"
   ]
  },
  {
   "cell_type": "markdown",
   "id": "fac90820",
   "metadata": {},
   "source": [
    "## 🔍 WHERE 조건문\n",
    "\n",
    "```sql\n",
    "SELECT column FROM table WHERE 조건;\n"
   ]
  },
  {
   "cell_type": "code",
   "execution_count": 19,
   "id": "ea2ec49e",
   "metadata": {},
   "outputs": [
    {
     "name": "stdout",
     "output_type": "stream",
     "text": [
      "('Bob', 30)\n",
      "('Charlie', 35)\n"
     ]
    }
   ],
   "source": [
    "### 8. 코드: WHERE 예시\n",
    "\n",
    "cursor.execute(\"SELECT name, age FROM users WHERE age >= 30\")\n",
    "for row in cursor.fetchall():\n",
    "    print(row)\n"
   ]
  },
  {
   "cell_type": "markdown",
   "id": "8f52d37d",
   "metadata": {},
   "source": [
    "## 🧩 WHERE 복합 조건\n",
    "\n",
    "- `AND`: 조건 모두 만족\n",
    "- `OR`: 조건 중 하나 만족\n",
    "\n",
    "예) Busan에 살면서 나이가 30 이상인 사용자\n"
   ]
  },
  {
   "cell_type": "code",
   "execution_count": null,
   "id": "b5f2baf4",
   "metadata": {},
   "outputs": [],
   "source": [
    "cursor.execute(\"SELECT * FROM users WHERE city='Busan' AND age >= 30\")\n",
    "for row in cursor.fetchall():\n",
    "    print(row)\n"
   ]
  },
  {
   "cell_type": "code",
   "execution_count": null,
   "id": "086a4788",
   "metadata": {},
   "outputs": [],
   "source": [
    "✅ 이번 챕터에서 배운 것:\n",
    "- SELECT 기본\n",
    "- 원하는 열(column)만 선택\n",
    "- WHERE 조건문 (단일 조건, 복합 조건)\n",
    "\n",
    "👉 다음 챕터: **GROUP BY & JOIN**\n"
   ]
  }
 ],
 "metadata": {
  "kernelspec": {
   "display_name": "v_dl (3.10.12)",
   "language": "python",
   "name": "python3"
  },
  "language_info": {
   "codemirror_mode": {
    "name": "ipython",
    "version": 3
   },
   "file_extension": ".py",
   "mimetype": "text/x-python",
   "name": "python",
   "nbconvert_exporter": "python",
   "pygments_lexer": "ipython3",
   "version": "3.10.12"
  }
 },
 "nbformat": 4,
 "nbformat_minor": 5
}
