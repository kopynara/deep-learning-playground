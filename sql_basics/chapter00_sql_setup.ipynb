{
 "cells": [
  {
   "cell_type": "markdown",
   "id": "f09d92f6",
   "metadata": {},
   "source": [
    "# SQL Basics\n",
    "\n",
    "이 노트북은 SQL 기초 학습을 위한 템플릿입니다. 🚀"
   ]
  },
  {
   "cell_type": "markdown",
   "id": "d4ed8684",
   "metadata": {},
   "source": [
    "# SQL Basics 00: 환경 세팅 & 샘플 DB 준비\n",
    "\n",
    "이 노트북에서는 앞으로 실습할 **SQLite 데이터베이스**를 준비합니다.  \n",
    "- SQLite 연결 확인  \n",
    "- 샘플 데이터베이스(`sample.db`) 생성  \n",
    "- 연습용 테이블(`users`, `orders`) 만들기  \n"
   ]
  },
  {
   "cell_type": "code",
   "execution_count": 1,
   "id": "1aba57e1",
   "metadata": {},
   "outputs": [
    {
     "name": "stdout",
     "output_type": "stream",
     "text": [
      "✅ SQLite 연결 성공!\n"
     ]
    }
   ],
   "source": [
    "import sqlite3\n",
    "\n",
    "# sample.db 파일에 연결 (없으면 새로 생성됨)\n",
    "conn = sqlite3.connect(\"sample.db\")\n",
    "cursor = conn.cursor()\n",
    "\n",
    "print(\"✅ SQLite 연결 성공!\")\n"
   ]
  },
  {
   "cell_type": "markdown",
   "id": "9c34477c",
   "metadata": {},
   "source": [
    "## 👤 users 테이블 생성\n",
    "\n",
    "- id (정수, 기본키)\n",
    "- name (문자열)\n",
    "- age (정수)\n",
    "- city (문자열)\n"
   ]
  },
  {
   "cell_type": "code",
   "execution_count": 2,
   "id": "01f2964a",
   "metadata": {},
   "outputs": [
    {
     "name": "stdout",
     "output_type": "stream",
     "text": [
      "✅ users 테이블 준비 완료!\n"
     ]
    }
   ],
   "source": [
    "cursor.execute(\"\"\"\n",
    "CREATE TABLE IF NOT EXISTS users (\n",
    "    id INTEGER PRIMARY KEY AUTOINCREMENT,\n",
    "    name TEXT,\n",
    "    age INTEGER,\n",
    "    city TEXT\n",
    ")\n",
    "\"\"\")\n",
    "\n",
    "cursor.executemany(\"\"\"\n",
    "INSERT INTO users (name, age, city) VALUES (?, ?, ?)\n",
    "\"\"\", [\n",
    "    (\"Alice\", 25, \"Seoul\"),\n",
    "    (\"Bob\", 30, \"Busan\"),\n",
    "    (\"Charlie\", 35, \"Incheon\"),\n",
    "])\n",
    "\n",
    "conn.commit()\n",
    "print(\"✅ users 테이블 준비 완료!\")\n"
   ]
  },
  {
   "cell_type": "markdown",
   "id": "110b2129",
   "metadata": {},
   "source": [
    "## 📦 orders 테이블 생성\n",
    "\n",
    "- id (정수, 기본키)\n",
    "- user_id (정수, users.id와 연결)\n",
    "- product (문자열)\n",
    "- amount (정수)\n"
   ]
  },
  {
   "cell_type": "code",
   "execution_count": 3,
   "id": "429c06db",
   "metadata": {},
   "outputs": [
    {
     "name": "stdout",
     "output_type": "stream",
     "text": [
      "✅ orders 테이블 준비 완료!\n"
     ]
    }
   ],
   "source": [
    "cursor.execute(\"\"\"\n",
    "CREATE TABLE IF NOT EXISTS orders (\n",
    "    id INTEGER PRIMARY KEY AUTOINCREMENT,\n",
    "    user_id INTEGER,\n",
    "    product TEXT,\n",
    "    amount INTEGER,\n",
    "    FOREIGN KEY (user_id) REFERENCES users(id)\n",
    ")\n",
    "\"\"\")\n",
    "\n",
    "cursor.executemany(\"\"\"\n",
    "INSERT INTO orders (user_id, product, amount) VALUES (?, ?, ?)\n",
    "\"\"\", [\n",
    "    (1, \"Laptop\", 1),\n",
    "    (2, \"Mouse\", 2),\n",
    "    (2, \"Keyboard\", 1),\n",
    "    (3, \"Monitor\", 1),\n",
    "])\n",
    "\n",
    "conn.commit()\n",
    "print(\"✅ orders 테이블 준비 완료!\")\n"
   ]
  },
  {
   "cell_type": "code",
   "execution_count": 4,
   "id": "63415b00",
   "metadata": {},
   "outputs": [
    {
     "name": "stdout",
     "output_type": "stream",
     "text": [
      "👤 Users:\n",
      "(1, 'Alice', 25, 'Seoul')\n",
      "(2, 'Bob', 30, 'Busan')\n",
      "(3, 'Charlie', 35, 'Incheon')\n",
      "\n",
      "📦 Orders:\n",
      "(1, 1, 'Laptop', 1)\n",
      "(2, 2, 'Mouse', 2)\n",
      "(3, 2, 'Keyboard', 1)\n",
      "(4, 3, 'Monitor', 1)\n"
     ]
    }
   ],
   "source": [
    "print(\"👤 Users:\")\n",
    "for row in cursor.execute(\"SELECT * FROM users\"):\n",
    "    print(row)\n",
    "\n",
    "print(\"\\n📦 Orders:\")\n",
    "for row in cursor.execute(\"SELECT * FROM orders\"):\n",
    "    print(row)\n"
   ]
  },
  {
   "cell_type": "markdown",
   "id": "2b047b13",
   "metadata": {},
   "source": [
    "✅ 이제 SQL 실습에 사용할 샘플 DB(`sample.db`)가 준비되었습니다.  \n",
    "다음 챕터부터는 이 DB를 불러와서 **SELECT, WHERE, GROUP BY, JOIN** 등을 연습합니다!\n"
   ]
  }
 ],
 "metadata": {
  "kernelspec": {
   "display_name": "v_dl (3.10.12)",
   "language": "python",
   "name": "python3"
  },
  "language_info": {
   "codemirror_mode": {
    "name": "ipython",
    "version": 3
   },
   "file_extension": ".py",
   "mimetype": "text/x-python",
   "name": "python",
   "nbconvert_exporter": "python",
   "pygments_lexer": "ipython3",
   "version": "3.10.12"
  }
 },
 "nbformat": 4,
 "nbformat_minor": 5
}
